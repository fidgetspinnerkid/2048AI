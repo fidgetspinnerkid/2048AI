{
 "cells": [
  {
   "cell_type": "code",
   "execution_count": 3,
   "metadata": {
    "collapsed": false
   },
   "outputs": [
    {
     "name": "stdout",
     "output_type": "stream",
     "text": [
      "Hi\n"
     ]
    },
    {
     "data": {
      "text/plain": [
       "(array([[0, 0, 0, 0],\n        [2, 0, 0, 0],\n        [0, 0, 0, 0],\n        [0, 0, 2, 0]], dtype=int64), 0, False, {})"
      ]
     },
     "execution_count": 3,
     "metadata": {},
     "output_type": "execute_result"
    }
   ],
   "source": [
    "import math\n",
    "import numpy as np\n",
    "import tensorflow as tf\n",
    "from env import Base2048Env\n",
    "import os\n",
    "\n",
    "env = Base2048Env()\n",
    "\n",
    "env.reset()"
   ]
  },
  {
   "cell_type": "code",
   "execution_count": 6,
   "metadata": {},
   "outputs": [],
   "source": [
    "class Agent:\n",
    "    def __init__(self, num_actions, state_size):\n",
    "         \n",
    "        initializer = tf.contrib.layers.xavier_initializer()\n",
    "         \n",
    "        self.input_layer = tf.placeholder(dtype=tf.float32, shape=[None, state_size])\n",
    "         \n",
    "        # Neural net starts here\n",
    "         \n",
    "        hidden_layer = tf.layers.dense(self.input_layer, 16, activation=tf.nn.leaky_relu, kernel_initializer=initializer)\n",
    "        hidden_layer_2 = tf.layers.dense(hidden_layer, 16, activation=tf.nn.leaky_relu, kernel_initializer=initializer)\n",
    "        hidden_layer_3 = tf.layers.dense(hidden_layer_2, 32, activation=tf.nn.leaky_relu, kernel_initializer=initializer)\n",
    "         \n",
    "        # Output of neural net\n",
    "        out = tf.layers.dense(hidden_layer_3, num_actions, activation=None)\n",
    "         \n",
    "        self.outputs = tf.nn.softmax(out)\n",
    "        self.choice = tf.argmax(self.outputs, axis=1)\n",
    "         \n",
    "        # Training Procedure\n",
    "        self.rewards = tf.placeholder(shape=[None, ], dtype=tf.float32)\n",
    "        self.actions = tf.placeholder(shape=[None, ], dtype=tf.int32)\n",
    "         \n",
    "        one_hot_actions = tf.one_hot(self.actions, num_actions)\n",
    "         \n",
    "        cross_entropy = tf.nn.softmax_cross_entropy_with_logits(logits=out, labels=one_hot_actions)\n",
    "         \n",
    "        self.loss = tf.reduce_mean(cross_entropy * self.rewards)\n",
    "         \n",
    "        self.gradients = tf.gradients(self.loss, tf.trainable_variables())\n",
    "         \n",
    "        # Create a placeholder list for gradients\n",
    "        self.gradients_to_apply = []\n",
    "        for index, variable in enumerate(tf.trainable_variables()):\n",
    "            gradient_placeholder = tf.placeholder(tf.float32)\n",
    "            self.gradients_to_apply.append(gradient_placeholder)\n",
    "         \n",
    "        # Create the operation to update gradients with the gradients placeholder.\n",
    "        optimizer = tf.train.AdamOptimizer()\n",
    "        self.update_gradients = optimizer.apply_gradients(zip(self.gradients_to_apply, tf.trainable_variables()))\n"
   ]
  },
  {
   "cell_type": "code",
   "execution_count": 7,
   "metadata": {},
   "outputs": [
    {
     "name": "stdout",
     "output_type": "stream",
     "text": [
      "[0, 0, 0, 0, 1.0, 1.0, 1.0, 1.0, 2.0, 2.0, 2.0, 2.0, 6.0, 6.0, 6.0, 6.0]\n"
     ]
    }
   ],
   "source": [
    "# TODO Create the discounted and normalized rewards function\n",
    "discount_rate = 0.99\n",
    "\n",
    "\n",
    "def discount_normalize_rewards(rewards):\n",
    "    discounted_rewards = np.zeros_like(rewards)\n",
    "    total_rewards = 0\n",
    "\n",
    "    for i in reversed(range(len(rewards))):\n",
    "        total_rewards = total_rewards * discount_rate + rewards[i]\n",
    "        discounted_rewards[i] = total_rewards\n",
    "\n",
    "    return discounted_rewards\n",
    "\n",
    "\n",
    "def format_state(state):\n",
    "    return [math.log(number, 2) if number != 0 else 0 for number in list(np.reshape(state, 16))]\n",
    "\n",
    "print(format_state(np.array(\n",
    "    [\n",
    "        [0, 0, 0, 0],\n",
    "        [2, 2, 2, 2],\n",
    "        [4, 4, 4, 4],\n",
    "        [64, 64, 64, 64]\n",
    "    ]\n",
    ")))\n"
   ]
  },
  {
   "cell_type": "code",
   "execution_count": null,
   "metadata": {},
   "outputs": [
    {
     "name": "stdout",
     "output_type": "stream",
     "text": [
      "INFO:tensorflow:Restoring parameters from ./2048-pg/pg-checkpoint-1000\n"
     ]
    },
    {
     "name": "stdout",
     "output_type": "stream",
     "text": [
      "Average reward / 100 eps: 1797.56\n"
     ]
    },
    {
     "name": "stdout",
     "output_type": "stream",
     "text": [
      "Average reward / 100 eps: 1965.28\n"
     ]
    },
    {
     "name": "stdout",
     "output_type": "stream",
     "text": [
      "Average reward / 100 eps: 1776.68\n"
     ]
    },
    {
     "name": "stdout",
     "output_type": "stream",
     "text": [
      "Average reward / 100 eps: 1901.44\n"
     ]
    },
    {
     "name": "stdout",
     "output_type": "stream",
     "text": [
      "Average reward / 100 eps: 1894.92\n"
     ]
    },
    {
     "name": "stdout",
     "output_type": "stream",
     "text": [
      "Average reward / 100 eps: 1926.52\n"
     ]
    },
    {
     "name": "stdout",
     "output_type": "stream",
     "text": [
      "Average reward / 100 eps: 1569.08\n"
     ]
    }
   ],
   "source": [
    "# TODO Create the training loop\n",
    "tf.reset_default_graph()\n",
    "\n",
    "# Modify these to match shape of actions and states in your environment\n",
    "num_actions = 4\n",
    "state_size = 16\n",
    "\n",
    "path = \"./2048-pg/\"\n",
    "\n",
    "training_episodes = 10001\n",
    "\n",
    "episode_batch_size = 1\n",
    "\n",
    "loading = True\n",
    "\n",
    "agent = Agent(num_actions, state_size)\n",
    "\n",
    "init = tf.global_variables_initializer()\n",
    "\n",
    "saver = tf.train.Saver(max_to_keep=2)\n",
    "\n",
    "if not os.path.exists(path):\n",
    "    os.makedirs(path)\n",
    "\n",
    "with tf.Session() as sess:\n",
    "    if not loading:\n",
    "        sess.run(init)\n",
    "    else:\n",
    "        checkpoint = tf.train.get_checkpoint_state(path)\n",
    "        saver.restore(sess, checkpoint.model_checkpoint_path)\n",
    "\n",
    "    total_episode_rewards = []\n",
    "\n",
    "    # Create a buffer of 0'd gradients\n",
    "    gradient_buffer = sess.run(tf.trainable_variables())\n",
    "    for index, gradient in enumerate(gradient_buffer):\n",
    "        gradient_buffer[index] = gradient * 0\n",
    "\n",
    "    for episode in range(1, training_episodes):\n",
    "\n",
    "        state = format_state(env.reset()[0])\n",
    "\n",
    "        episode_history = []\n",
    "        episode_rewards = 0\n",
    "        \n",
    "        done = False\n",
    "        moves = 0\n",
    "        while not done:\n",
    "            moves += 1\n",
    "            # Get weights for each action\n",
    "            action_probabilities = sess.run(agent.outputs, feed_dict={agent.input_layer: [state]})\n",
    "            action_choice = np.random.choice(range(num_actions), p=action_probabilities[0])\n",
    "\n",
    "            state_next, reward, done, _ = env.step(action_choice)\n",
    "            episode_history.append([state, action_choice, reward, state_next])\n",
    "            state = format_state(state_next)\n",
    "\n",
    "            episode_rewards += reward\n",
    "\n",
    "            if done:\n",
    "                total_episode_rewards.append(episode_rewards)\n",
    "                episode_history = np.array(episode_history)\n",
    "                episode_history[:, 2] = discount_normalize_rewards(episode_history[:, 2])\n",
    "\n",
    "                ep_gradients = sess.run(agent.gradients, feed_dict={agent.input_layer: np.vstack(episode_history[:, 0]),\n",
    "                                                                    agent.actions: episode_history[:, 1],\n",
    "                                                                    agent.rewards: episode_history[:, 2]})\n",
    "                # add the gradients to the grad buffer:\n",
    "                for index, gradient in enumerate(ep_gradients):\n",
    "                    gradient_buffer[index] += gradient\n",
    "                #env.render()\n",
    "                #print('\\nTotal Moves: {}'.format(moves))\n",
    "                break\n",
    "\n",
    "        if episode % episode_batch_size == 0:\n",
    "\n",
    "            feed_dict_gradients = dict(zip(agent.gradients_to_apply, gradient_buffer))\n",
    "\n",
    "            sess.run(agent.update_gradients, feed_dict=feed_dict_gradients)\n",
    "\n",
    "            for index, gradient in enumerate(gradient_buffer):\n",
    "                gradient_buffer[index] = gradient * 0\n",
    "\n",
    "        if episode % 1000 == 0:\n",
    "            saver.save(sess, path + \"pg-checkpoint\", episode)\n",
    "            print(\"Average reward / 100 eps: \" + str(np.mean(total_episode_rewards[-100:])))\n",
    "\n",
    "    print(\"TOTAL AVERAGE REWARD:\" + str(np.mean(total_episode_rewards)))\n",
    "    print(\"HIGH SCORE: \"+str(np.max(total_episode_rewards)))\n"
   ]
  },
  {
   "cell_type": "code",
   "execution_count": 6,
   "metadata": {},
   "outputs": [],
   "source": []
  }
 ],
 "metadata": {
  "kernelspec": {
   "display_name": "Python 2",
   "language": "python",
   "name": "python2"
  },
  "language_info": {
   "codemirror_mode": {
    "name": "ipython",
    "version": 2
   },
   "file_extension": ".py",
   "mimetype": "text/x-python",
   "name": "python",
   "nbconvert_exporter": "python",
   "pygments_lexer": "ipython2",
   "version": "2.7.6"
  }
 },
 "nbformat": 4,
 "nbformat_minor": 0
}
